{
 "cells": [
  {
   "cell_type": "markdown",
   "id": "ddf4da9b-308d-487d-bf01-94c827bd032e",
   "metadata": {},
   "source": [
    "Fusobacterium_varium"
   ]
  },
  {
   "cell_type": "code",
   "execution_count": 1,
   "id": "10a89f0b-8836-49e4-8717-2535d2b09a3b",
   "metadata": {},
   "outputs": [
    {
     "name": "stdout",
     "output_type": "stream",
     "text": [
      "Количество последовательностей Fusobacterium_varium: 4926\n"
     ]
    }
   ],
   "source": [
    "from Bio import SeqIO\n",
    "\n",
    "input_file = \"Fusobacterium_varium.ffn\"\n",
    "\n",
    "count = sum(1 for record in SeqIO.parse(input_file, \"fasta\"))\n",
    "print(f\"Количество последовательностей Fusobacterium_varium: {count}\")"
   ]
  },
  {
   "cell_type": "code",
   "execution_count": 2,
   "id": "298851c3-397e-4b2a-97ff-dec18f2f7af3",
   "metadata": {},
   "outputs": [
    {
     "name": "stdout",
     "output_type": "stream",
     "text": [
      "Количество последовательностей Fusobacterium_varium: 36\n"
     ]
    }
   ],
   "source": [
    "input_file = \"Fusobacterium_varium.ffn\"\n",
    "output_file = \"Fusobacterium_varium_filtered_sequences_100_150.ffn\"\n",
    "\n",
    "with open(input_file, \"r\") as in_handle, open(output_file, \"w\") as out_handle:\n",
    "    for record in SeqIO.parse(in_handle, \"fasta\"):\n",
    "        if 100 <= len(record.seq) <= 150:\n",
    "            SeqIO.write(record, out_handle, \"fasta\")\n",
    "count = sum(1 for record in SeqIO.parse(output_file, \"fasta\"))\n",
    "print(f\"Количество последовательностей Fusobacterium_varium: {count}\")"
   ]
  },
  {
   "cell_type": "code",
   "execution_count": 3,
   "id": "53f921c7-e004-4d8f-9391-eab04176f411",
   "metadata": {},
   "outputs": [
    {
     "name": "stdout",
     "output_type": "stream",
     "text": [
      "Последовательность номер 26:\n",
      "ID: 856__F8WVH5__FVAG_03088|k__Bacteria.p__Fusobacteria.c__Fusobacteriia.o__Fusobacteriales.f__Fusobacteriaceae.g__Fusobacterium.s__Fusobacterium_varium|UniRef90_F8WVH5|UniRef50_H1PTM9|147\n",
      "Sequence: TTGAAAAAAGTCTTAACTGAAAAAGAAATAGAAATCCAAATGGAAAAAGCTTTAAATAAAATACCATTTGAAATAAAAAAGATAAAGTTTGCTCTCGAAGTGGTAAAGAAAATAAAAAGATTAAAAATGATTTTTAAAATTAAATAG\n",
      "\n",
      "Последовательность номер 28:\n",
      "ID: 856__F8WVF1__FVAG_03099|k__Bacteria.p__Fusobacteria.c__Fusobacteriia.o__Fusobacteriales.f__Fusobacteriaceae.g__Fusobacterium.s__Fusobacterium_varium|UniRef90_F8WVF1|UniRef50_F8WVF1|108\n",
      "Sequence: ATGGCTAATATAAGTGCAGATAATAAAAATATATATCATAAAATAAATGTTCTCAAGAAAGGGCAAAAAGAAAAAGAGGAGAGAAAAAGAAAAAAAGAAGAAATATAA\n",
      "\n"
     ]
    }
   ],
   "source": [
    "\n",
    "input_file = \"Fusobacterium_varium_filtered_sequences_100_150.ffn\"\n",
    "\n",
    "# Номера интересующих последовательностей (начиная с 1)\n",
    "sequence_numbers = [26, 28]\n",
    "# Считывание всех последовательностей из файла\n",
    "sequences = list(SeqIO.parse(input_file, \"fasta\"))\n",
    "\n",
    "\n",
    "for num in sequence_numbers:\n",
    "    sequence_index = num - 1  # Перевод в индексацию Python (начинается с 0)\n",
    "    if sequence_index < len(sequences):\n",
    "        print(f\"Последовательность номер {num}:\")\n",
    "        print(f\"ID: {sequences[sequence_index].id}\")\n",
    "        print(f\"Sequence: {str(sequences[sequence_index].seq)}\\n\")\n",
    "    else:\n",
    "        print(f\"Последовательность номер {num} не найдена.\")"
   ]
  },
  {
   "cell_type": "markdown",
   "id": "1fd3fdf0-4854-4b4f-be2a-7190fa74ce24",
   "metadata": {},
   "source": [
    "Fusobacteriaceae"
   ]
  },
  {
   "cell_type": "code",
   "execution_count": 7,
   "id": "8c58ffb9-d7a4-4d12-9cce-6ce9dd715ee1",
   "metadata": {},
   "outputs": [
    {
     "name": "stdout",
     "output_type": "stream",
     "text": [
      "Количество последовательностей Fusobacteriaceae: 1137\n"
     ]
    }
   ],
   "source": [
    "input_file = \"Fusobacteriaceae.ffn\"\n",
    "\n",
    "count = sum(1 for record in SeqIO.parse(input_file, \"fasta\"))\n",
    "print(f\"Количество последовательностей Fusobacteriaceae: {count}\")"
   ]
  },
  {
   "cell_type": "code",
   "execution_count": 5,
   "id": "141d0fff-5c02-458b-b15d-359170a84104",
   "metadata": {},
   "outputs": [
    {
     "name": "stdout",
     "output_type": "stream",
     "text": [
      "Количество последовательностей Fusobacteriaceae: 14\n"
     ]
    }
   ],
   "source": [
    "input_file = \"Fusobacteriaceae.ffn\"\n",
    "output_file = \"Fusobactericeae_filtered_sequences_100_150.ffn\"\n",
    "\n",
    "with open(input_file, \"r\") as in_handle, open(output_file, \"w\") as out_handle:\n",
    "    for record in SeqIO.parse(in_handle, \"fasta\"):\n",
    "        if 100 <= len(record.seq) <= 150:\n",
    "            SeqIO.write(record, out_handle, \"fasta\")\n",
    "count = sum(1 for record in SeqIO.parse(output_file, \"fasta\"))\n",
    "print(f\"Количество последовательностей Fusobacteriaceae: {count}\")"
   ]
  },
  {
   "cell_type": "code",
   "execution_count": 6,
   "id": "c197bcc8-06b4-4355-835e-2b7e3fced8af",
   "metadata": {},
   "outputs": [
    {
     "name": "stdout",
     "output_type": "stream",
     "text": [
      "Последовательность номер 2:\n",
      "ID: 2053555__A0A349GR99__DCR90_01480|k__Bacteria.p__Fusobacteria.c__Fusobacteriia.o__Fusobacteriales.f__Fusobacteriaceae.g__Fusobacteriaceae_unclassified.s__Fusobacteriaceae_bacterium|UniRef90_A0A349GR99|UniRef50_A0A349GR99|139\n",
      "Sequence: ATCGAAATTCAAAAACAAAATAAAGATAATTATATCTCAGATGAGATCTCTAATTATGTGAGTAAAAAATTAAAAATTCCAAAAGCTAGAGTCGATGAAGTAATCACATTTTTTTCTTCTATAAATAATTGTAAAAAAG\n",
      "\n",
      "Последовательность номер 4:\n",
      "ID: 2053555__A0A349GRY6__DCR90_02700|k__Bacteria.p__Fusobacteria.c__Fusobacteriia.o__Fusobacteriales.f__Fusobacteriaceae.g__Fusobacteriaceae_unclassified.s__Fusobacteriaceae_bacterium|UniRef90_A0A349GRY6|UniRef50_A0A349GRY6|111\n",
      "Sequence: CTAAAACACCCTAATCATTCAAAAGAATATTGGAAATATATAGGAATATATATAAAAAATCCCACATCTTATCGTAGATGGCTAAGAAAAAATGGATATAAATTCATATAA\n",
      "\n",
      "Последовательность номер 7:\n",
      "ID: 2053555__A0A349GSV6__DCR90_04335|k__Bacteria.p__Fusobacteria.c__Fusobacteriia.o__Fusobacteriales.f__Fusobacteriaceae.g__Fusobacteriaceae_unclassified.s__Fusobacteriaceae_bacterium|UniRef90_A0A349GSV6|UniRef50_A0A349GSV6|107\n",
      "Sequence: TTGATTTTACTTGCTGGAGGAACTAAAGACTCTAGAATAATAGCTGATAAACTTTTAAAAAATAATCATAAAGTTGTAGTTACTACAGCTACAGAATATGGTGGACA\n",
      "\n",
      "Последовательность номер 8:\n",
      "ID: 2053555__A0A349GSW3__DCR90_04370|k__Bacteria.p__Fusobacteria.c__Fusobacteriia.o__Fusobacteriales.f__Fusobacteriaceae.g__Fusobacteriaceae_unclassified.s__Fusobacteriaceae_bacterium|UniRef90_A0A349GSW3|UniRef50_A1HTW4|140\n",
      "Sequence: TAGTAAATATAAATAAAATAAAAGAGATAATCCCTTGGTTTAATAGTACATATAATTTAAAAATAGAAGGATTAGATATTGAAGTTACTGTTAGTCGAAATAAGATTAAAAAATTTAGAAAACTATTAAACATAAAATAA\n",
      "\n",
      "Последовательность номер 11:\n",
      "ID: 2053555__A0A349GTA8__DCR90_05140|k__Bacteria.p__Fusobacteria.c__Fusobacteriia.o__Fusobacteriales.f__Fusobacteriaceae.g__Fusobacteriaceae_unclassified.s__Fusobacteriaceae_bacterium|UniRef90_A0A349GTA8|UniRef50_A0A349GTA8|144\n",
      "Sequence: ATGGCCAAAATGGTTAAGAGAGGTTCAAAATACTTCTACTGGACTCTATTAGAAGCAGTTAGAACAGGTAAAAGTGCAAGAGTTCCTATCTTTAAAGATATATCAAGGAAAACATCATTTAGTAGCCATGAGTCATACAGCTAG\n",
      "\n",
      "Последовательность номер 12:\n",
      "ID: 2053555__A0A349GTG9__DCR90_05460|k__Bacteria.p__Fusobacteria.c__Fusobacteriia.o__Fusobacteriales.f__Fusobacteriaceae.g__Fusobacteriaceae_unclassified.s__Fusobacteriaceae_bacterium|UniRef90_A0A349GTG9|UniRef50_A0A0D0EVC2|115\n",
      "Sequence: TAATTTAAAATTAAAAGATAGAAAGTATGTATGTGATTGTGGATATGCAGAAGACAGAGATCTCAATGCAGCTTTTAATTTAAGAGATGCAACTGAATATAAAATAGCAAATTAA\n",
      "\n",
      "Последовательность номер 14:\n",
      "ID: 2053555__A0A349GRP9__frr|k__Bacteria.p__Fusobacteria.c__Fusobacteriia.o__Fusobacteriales.f__Fusobacteriaceae.g__Fusobacteriaceae_unclassified.s__Fusobacteriaceae_bacterium|UniRef90_A0A349GRP9|UniRef50_A0A350X2W0|101\n",
      "Sequence: TAAAAGGATTTGAAGCAGATGTTCAAAAACTTACAGATGAATATATTAAAACAGTAGAAGATTTATTGAAAAAGAAAGAAAAAGAAATCACAACTGTATAA\n",
      "\n"
     ]
    }
   ],
   "source": [
    "input_file = \"Fusobactericeae_filtered_sequences_100_150.ffn\"\n",
    "\n",
    "# Номера интересующих последовательностей (начиная с 1)\n",
    "sequence_numbers = [2, 4, 7, 8, 11, 12, 14]\n",
    "# Считывание всех последовательностей из файла\n",
    "sequences = list(SeqIO.parse(input_file, \"fasta\"))\n",
    "\n",
    "\n",
    "for num in sequence_numbers:\n",
    "    sequence_index = num - 1  # Перевод в индексацию Python (начинается с 0)\n",
    "    if sequence_index < len(sequences):\n",
    "        print(f\"Последовательность номер {num}:\")\n",
    "        print(f\"ID: {sequences[sequence_index].id}\")\n",
    "        print(f\"Sequence: {str(sequences[sequence_index].seq)}\\n\")\n",
    "    else:\n",
    "        print(f\"Последовательность номер {num} не найдена.\")"
   ]
  },
  {
   "cell_type": "markdown",
   "id": "4791fdab-5b49-47d3-82f8-4547a4f15e7f",
   "metadata": {},
   "source": [
    "Mycobacterium_avium"
   ]
  },
  {
   "cell_type": "code",
   "execution_count": 8,
   "id": "74c885d1-5c84-42a4-9457-213a190f691d",
   "metadata": {},
   "outputs": [
    {
     "name": "stdout",
     "output_type": "stream",
     "text": [
      "Количество последовательностей Fusobacteriaceae: 16565\n"
     ]
    }
   ],
   "source": [
    "input_file = \"Mycobacterium_avium.ffn\"\n",
    "\n",
    "count = sum(1 for record in SeqIO.parse(input_file, \"fasta\"))\n",
    "print(f\"Количество последовательностей Mycobacterium_avium: {count}\")"
   ]
  },
  {
   "cell_type": "code",
   "execution_count": 9,
   "id": "b6ebadcc-9e64-484b-b9b7-c4a3f2fc9d2d",
   "metadata": {},
   "outputs": [
    {
     "name": "stdout",
     "output_type": "stream",
     "text": [
      "Количество последовательностей: 586\n"
     ]
    }
   ],
   "source": [
    "input_file = \"Mycobacterium_avium.ffn\"\n",
    "output_file = \"Mycobacterium_avium_filtered_sequences_100_150.ffn\"\n",
    "\n",
    "with open(input_file, \"r\") as in_handle, open(output_file, \"w\") as out_handle:\n",
    "    for record in SeqIO.parse(in_handle, \"fasta\"):\n",
    "        if 100 <= len(record.seq) <= 150:\n",
    "            SeqIO.write(record, out_handle, \"fasta\")\n",
    "\n",
    "count = sum(1 for record in SeqIO.parse(output_file, \"fasta\"))\n",
    "print(f\"Количество последовательностей: {count}\")"
   ]
  },
  {
   "cell_type": "code",
   "execution_count": 10,
   "id": "c04d6b71-9ff6-43e4-9f9a-dfea3287eda2",
   "metadata": {},
   "outputs": [
    {
     "name": "stdout",
     "output_type": "stream",
     "text": [
      "Последовательность номер 18:\n",
      "ID: 1764__A0A049D2W4__B0172_01535|k__Bacteria.p__Actinobacteria.c__Actinobacteria.o__Corynebacteriales.f__Mycobacteriaceae.g__Mycobacterium.s__Mycobacterium_avium|UniRef90_A0A049D2W4|UniRef50_A0A200GVY1|105\n",
      "Sequence: ATGTTGTCCCGTGCTGCCTTCTTCACGGCGGCCGTCACCGCAGTTCTCGCCGGCCCGGCCGCCGTCGCGCCGCCGGCCGACTCGTCACCCGCCCGGGCCAGCTAG\n",
      "\n",
      "Последовательность номер 72:\n",
      "ID: 1764__X8BEA3__I549_0475|k__Bacteria.p__Actinobacteria.c__Actinobacteria.o__Corynebacteriales.f__Mycobacteriaceae.g__Mycobacterium.s__Mycobacterium_avium|UniRef90_X8BEA3|UniRef50_X8BEA3|132\n",
      "Sequence: GTGGACGCAACGACGTCGAAACTCGCAGCTGATGTCTACCTGCTGCACCCCTACCATCACGGCGCCGGCGTGGGCGGAGGCACGGCGATCGTGTCCGGTTCGCCGACAATGCGTGCGATGACCGTCCGCTGA\n",
      "\n",
      "Последовательность номер 75:\n",
      "ID: 1764__X8BD08__I549_0501|k__Bacteria.p__Actinobacteria.c__Actinobacteria.o__Corynebacteriales.f__Mycobacteriaceae.g__Mycobacterium.s__Mycobacterium_avium|UniRef90_X8BD08|UniRef50_X8BD08|117\n",
      "Sequence: TTGGCGAATGACATTGTTCTGCAAGAAGCCGGATGGACGTCGCTCCGGGTGTGGGAGCACGTTCCCGTCGATGAAGCTGTAAGCAGAATCGAAAAGGCCTATCAGGAGTCAAAGTGA\n",
      "\n",
      "Последовательность номер 132:\n",
      "ID: 1764__X8B379__I549_1926|k__Bacteria.p__Actinobacteria.c__Actinobacteria.o__Corynebacteriales.f__Mycobacteriaceae.g__Mycobacterium.s__Mycobacterium_avium|UniRef90_X8B379|UniRef50_X8B379|123\n",
      "Sequence: GTGGCAATCGCTCCCGACGTGGTCGCCGAAGCCATCAGCTACGTCGCAGACACCATCGATGCGGTCGAGCAGCTACTTCCCCGACTTGACCTCTGGCGAAGCACTGCGACCGGCGTTTCATGA\n",
      "\n",
      "Последовательность номер 133:\n",
      "ID: 1764__X8AYD4__I549_1934|k__Bacteria.p__Actinobacteria.c__Actinobacteria.o__Corynebacteriales.f__Mycobacteriaceae.g__Mycobacterium.s__Mycobacterium_avium|UniRef90_X8AYD4|UniRef50_X8AYD4|114\n",
      "Sequence: ATGGCCGCCGCCGTCGCTGACGACTTCAACGAATTCTTCCAATGCGACTTGCCCGAGCGGCCGTGGTACGCCATCGCTGATGCCGCCTCGGAAGCCGATTACTACTCGCAATGA\n",
      "\n",
      "Последовательность номер 151:\n",
      "ID: 1764__X8AZ89__I549_2633|k__Bacteria.p__Actinobacteria.c__Actinobacteria.o__Corynebacteriales.f__Mycobacteriaceae.g__Mycobacterium.s__Mycobacterium_avium|UniRef90_X8AZ89|UniRef50_X8AZ89|129\n",
      "Sequence: TTGCTGTGGCTGAATGAGGTTGCATGCATCGCCAAAGCCACACCGGGTCGTCCGACACCACATTTCCGCAACCAACGCTGCGCGGCGCTGAGCGCCACTACTCCGTCACTGGGTAACTCGGTGACCTAG\n",
      "\n",
      "Последовательность номер 209:\n",
      "ID: 1764__X8B4C4__I549_4147|k__Bacteria.p__Actinobacteria.c__Actinobacteria.o__Corynebacteriales.f__Mycobacteriaceae.g__Mycobacterium.s__Mycobacterium_avium|UniRef90_X8B4C4|UniRef50_X8B4C4|123\n",
      "Sequence: TTGAACCACCACGTTCGCGATCACGGTGCGGTGCGGTGCGGTCGTGGCTATCCGGTTATGCGTGACGGGCAGTGCGGCGTGTGCCTGGGTCAGAACGAGATCGCAAAGCAGCGGCGGCCATGA\n",
      "\n",
      "Последовательность номер 220:\n",
      "ID: 1764__X8B0T4__I549_4333|k__Bacteria.p__Actinobacteria.c__Actinobacteria.o__Corynebacteriales.f__Mycobacteriaceae.g__Mycobacterium.s__Mycobacterium_avium|UniRef90_X8B0T4|UniRef50_X8B0T4|114\n",
      "Sequence: GTGACAGGCCATGGATCGGGATCGCCTCGATTCGGCTGGGGGCCGTTCCGGTGCTACCGCGAAGAACATCATTCCGCGGCCAGCTCCGACATGGCCAAGAACCGCCAGCGTTGA\n",
      "\n",
      "Последовательность номер 221:\n",
      "ID: 1764__X8BDM0__I549_4334|k__Bacteria.p__Actinobacteria.c__Actinobacteria.o__Corynebacteriales.f__Mycobacteriaceae.g__Mycobacterium.s__Mycobacterium_avium|UniRef90_X8BDM0|UniRef50_X8BDM0|132\n",
      "Sequence: GTGGCCGGCGCGCAAGCGGATCGCGCCCATTCAGACCGCGACACCGATATCCGCCGCGCCGCCATCCAGAGACCCGCGGACAGCCGGGGGTTCGGTGTGCGCGCGGCCGGCACCGGCATCAGGTGTTCCTGA\n",
      "\n",
      "Последовательность номер 222:\n",
      "ID: 1764__X8BD10__I549_4345|k__Bacteria.p__Actinobacteria.c__Actinobacteria.o__Corynebacteriales.f__Mycobacteriaceae.g__Mycobacterium.s__Mycobacterium_avium|UniRef90_X8BD10|UniRef50_X8BD10|123\n",
      "Sequence: GTGACCATGGCGACCGCGCTACACGGCCGCTTCACCTCGAGCGGAAACGGCTGCTGGCGGCCCTATGTCGACGCGCCACTCAACACATGCACCAACGAAGGTCCGGAAAGCACGAATCTGTGA\n",
      "\n",
      "Последовательность номер 398:\n",
      "ID: 1764__A0A0E2WAS8__MAVA5_09125|k__Bacteria.p__Actinobacteria.c__Actinobacteria.o__Corynebacteriales.f__Mycobacteriaceae.g__Mycobacterium.s__Mycobacterium_avium|UniRef90_A0A0E2WAS8|UniRef50_A0A0E2WAS8|102\n",
      "Sequence: TTGCCCGCCTTCGAGTTCGGCGGAGTAGACCAGCACGACATGGTCGTGTTCCGCCTCGACCATCGTTTGAGCCTCGGCAAAGGCTTCGACGCCGGGGGCTAA\n",
      "\n",
      "Последовательность номер 404:\n",
      "ID: 1764__A0A0E2W481__MAVA5_15300|k__Bacteria.p__Actinobacteria.c__Actinobacteria.o__Corynebacteriales.f__Mycobacteriaceae.g__Mycobacterium.s__Mycobacterium_avium|UniRef90_A0A0E2W481|UniRef50_A0A1A0SQ47|111\n",
      "Sequence: ATGATCGCCGACGGACGCCTCACCGGATACCGCAACGGGGCCCGCCTCATCCGCCTGGACCTCAACGAGGTCGACGCGGCGATGCAGCCATTCGGCGGCGCAGCGTCGTGA\n",
      "\n",
      "Последовательность номер 405:\n",
      "ID: 1764__A0A0E2WAE6__MAVA5_15310|k__Bacteria.p__Actinobacteria.c__Actinobacteria.o__Corynebacteriales.f__Mycobacteriaceae.g__Mycobacterium.s__Mycobacterium_avium|UniRef90_A0A0E2WAE6|UniRef50_A0A0E2WAE6|126\n",
      "Sequence: GTGCGCCTGACGGCGGGCCCGTTCACGTTCACCGTCGACCCTGACGAGGCGCTCAAGCTCGCCGATCGGCTCGTCGACGCCGTCGAAACGATCCGCAACCACCCCAACGGAAGGACCACACGATGA\n",
      "\n",
      "Последовательность номер 406:\n",
      "ID: 1764__A0A0E2WAF1__MAVA5_15335|k__Bacteria.p__Actinobacteria.c__Actinobacteria.o__Corynebacteriales.f__Mycobacteriaceae.g__Mycobacterium.s__Mycobacterium_avium|UniRef90_A0A0E2WAF1|UniRef50_A0A0E2WAF1|102\n",
      "Sequence: TTGGGGGTCGGCGAAACACCTTCGATCACGCGGTATTCGGCGCCGGGAGTGCGCTTTTCGATGTCGCTGGTGAAAAAGTCGGTGGCCGCGATGACGCTGTAG\n",
      "\n",
      "Последовательность номер 407:\n",
      "ID: 1764__A0A0E2W493__MAVA5_15355|k__Bacteria.p__Actinobacteria.c__Actinobacteria.o__Corynebacteriales.f__Mycobacteriaceae.g__Mycobacterium.s__Mycobacterium_avium|UniRef90_A0A0E2W493|UniRef50_A0A0E2W493|105\n",
      "Sequence: ATGTGCGCCACCATCTCGGTCCGGTGCGTGTCGCGCTATCTGTTGTTCACGGAGGAGTTTGCTGAGAGCGCCCAGGTCTGGCCCGGCGAAGGGCTCGTCTACTAA\n",
      "\n",
      "Последовательность номер 438:\n",
      "ID: 1764__V7N674__N602_06945|k__Bacteria.p__Actinobacteria.c__Actinobacteria.o__Corynebacteriales.f__Mycobacteriaceae.g__Mycobacterium.s__Mycobacterium_avium|UniRef90_V7N674|UniRef50_V7N674|129\n",
      "Sequence: ATGTTCGGGCGTCGGCGTCCCGAGGCGATCGGTGAAGATCGCGAGGATCATGTCCGACTCGTCGACGATCTGCGCATTGAGTACGTCTTGGGCATATTCGCCGAAGGCGGGCGCACCACCTTCGTGTGA\n",
      "\n",
      "Последовательность номер 443:\n",
      "ID: 1764__V7MMV7__N602_24265|k__Bacteria.p__Actinobacteria.c__Actinobacteria.o__Corynebacteriales.f__Mycobacteriaceae.g__Mycobacterium.s__Mycobacterium_avium|UniRef90_V7MMV7|UniRef50_V7MMV7|102\n",
      "Sequence: ATGGCCACGACATACTTACCCGACGGATTCGGCGGTTCCAAGCTGTACACCGGCCACCCGTCGAACTCGCTGCGCTGCACGTTCAATCCAAGCGTCGCGTAG\n",
      "\n",
      "Последовательность номер 445:\n",
      "ID: 1764__V7MLE6__N602_25745|k__Bacteria.p__Actinobacteria.c__Actinobacteria.o__Corynebacteriales.f__Mycobacteriaceae.g__Mycobacterium.s__Mycobacterium_avium|UniRef90_V7MLE6|UniRef50_V7MLE6|102\n",
      "Sequence: GTGGGGAGCGATCTGCTGTGGCTCATCGTGCTTTCCGTCCGCAGGCGCGAGGCCAGCGTCGGCCTACTGATAATGATCCGTTTCTCGTCGCTTTTCTGGTAG\n",
      "\n",
      "Последовательность номер 446:\n",
      "ID: 1764__V7MNJ2__N602_25865|k__Bacteria.p__Actinobacteria.c__Actinobacteria.o__Corynebacteriales.f__Mycobacteriaceae.g__Mycobacterium.s__Mycobacterium_avium|UniRef90_V7MNJ2|UniRef50_V7MNJ2|102\n",
      "Sequence: GTGTGCGTGGCCGACCATGCGACGGCGACCGTCACGCTTGGCTGGTTGTGGCTGGCCGCTATCGTCATCGCCGGCGTCGCGGCGACTTTCGACAAGTTCTGA\n",
      "\n",
      "Последовательность номер 448:\n",
      "ID: 1764__V7MKL6__N602_26470|k__Bacteria.p__Actinobacteria.c__Actinobacteria.o__Corynebacteriales.f__Mycobacteriaceae.g__Mycobacterium.s__Mycobacterium_avium|UniRef90_V7MKL6|UniRef50_V7MKL6|111\n",
      "Sequence: ATGTGGCTGACCAACCCCAGCGATCTTCACGGTGTGCGGATCGAGTGGGTGAACTCGGCGCTTCGGCCGGGCCTAGAGGCGGGACTGACCGCCGGCCGGATGAACGGTTGA\n",
      "\n",
      "Последовательность номер 449:\n",
      "ID: 1764__V7MLW6__N602_26785|k__Bacteria.p__Actinobacteria.c__Actinobacteria.o__Corynebacteriales.f__Mycobacteriaceae.g__Mycobacterium.s__Mycobacterium_avium|UniRef90_V7MLW6|UniRef50_V7MLW6|120\n",
      "Sequence: ATGGTCGTGTTCAGCGATGGCCAGTGGCGCTCCGTGCGTCGCCGGGCAGTTGTCGAGGGGTACGTACCCGGGTCGCCGGTGGAGAACCTGCTCGGCATCAGGTCGAACATCGCCCGCTAA\n",
      "\n",
      "Последовательность номер 452:\n",
      "ID: 1764__V7MHR8__N602_28415|k__Bacteria.p__Actinobacteria.c__Actinobacteria.o__Corynebacteriales.f__Mycobacteriaceae.g__Mycobacterium.s__Mycobacterium_avium|UniRef90_V7MHR8|UniRef50_V7MHR8|117\n",
      "Sequence: GTGGGAGCGGAGCAGAGACGTCAGCACCTCGGGGTCACGTTGTCGGCAGAGCGCAGTGTGATGGGCAGGGCTCGGCTCGTCATCGGCTTCCTCTTCGTCGAGCAATGTGACAGTTGA\n",
      "\n",
      "Последовательность номер 461:\n",
      "ID: 1764__V7M894__N602_31480|k__Bacteria.p__Actinobacteria.c__Actinobacteria.o__Corynebacteriales.f__Mycobacteriaceae.g__Mycobacterium.s__Mycobacterium_avium|UniRef90_V7M894|UniRef50_V7M894|141\n",
      "Sequence: ATGCACGAGCTCCCAGTCGAGCACGCCGGCCACGCCGCGCTCAGTCACAATGAGATTCCCGTTGCGGAAGTCGCCGTGCACAAGGGACTGGCGACCGGCGGGATGGCGATGGGTCTTCAACCAGTGAAACGCCAGCTCTAA\n",
      "\n",
      "Последовательность номер 463:\n",
      "ID: 1764__V7MAA1__N602_31590|k__Bacteria.p__Actinobacteria.c__Actinobacteria.o__Corynebacteriales.f__Mycobacteriaceae.g__Mycobacterium.s__Mycobacterium_avium|UniRef90_V7MAA1|UniRef50_V7MAA1|111\n",
      "Sequence: GTGTGGCAGATCAACGAGAAAGCGGTCAAGACCGTGTTCAGCAGCCGCGACGCCCAGGAGGGCCCCCGCGCATTCGCCGAAAAACGGGCACCGCAGTGGGCGGACCGATGA\n",
      "\n",
      "Последовательность номер 476:\n",
      "ID: 1764__V7KNR7__O972_21985|k__Bacteria.p__Actinobacteria.c__Actinobacteria.o__Corynebacteriales.f__Mycobacteriaceae.g__Mycobacterium.s__Mycobacterium_avium|UniRef90_V7KNR7|UniRef50_A0A0T9G7X9|123\n",
      "Sequence: GTGGTCATCGGCACCGTGGTGGTGGTGCTGGTGGTGGTCGGCTCCTGCGTCGTCGTCGGTGGCGGCGGTGTGGTGGTGGGCGTCGGACTCGGCGTCGGCGCCGTGGTGTGCCGCGGCGTGTAG\n",
      "\n",
      "Последовательность номер 508:\n",
      "ID: 1764__V7KIV0__O980_17905|k__Bacteria.p__Actinobacteria.c__Actinobacteria.o__Corynebacteriales.f__Mycobacteriaceae.g__Mycobacterium.s__Mycobacterium_avium|UniRef90_V7KIV0|UniRef50_V7KIV0|105\n",
      "Sequence: TTGAGTTCCCTGGGCTCGCGGTGGGCGGTGGCGGCGGCGGTGGCGCTGCTGATGGCGGTGCTGCTGTCGGCGGCGCCGGTGTATGGCGANNCAGCGGACCGTTGA\n",
      "\n",
      "Последовательность номер 510:\n",
      "ID: 1764__V7KE35__O980_20955|k__Bacteria.p__Actinobacteria.c__Actinobacteria.o__Corynebacteriales.f__Mycobacteriaceae.g__Mycobacterium.s__Mycobacterium_avium|UniRef90_V7KE35|UniRef50_A0A376HIR9|123\n",
      "Sequence: GTGGCCGTGGCCGCCACCGAACCCGTGCCCGCCGCCGAACCCGTGGCCGCCGCCGAAGGGACCATGCCCGCCGAACGGGCCGTGACCCCCGCCGAAGGACCGTGCCGCACGACGTGCCGCTGA\n",
      "\n",
      "Последовательность номер 527:\n",
      "ID: 1764__V7NHD2__O981_27335|k__Bacteria.p__Actinobacteria.c__Actinobacteria.o__Corynebacteriales.f__Mycobacteriaceae.g__Mycobacterium.s__Mycobacterium_avium|UniRef90_V7NHD2|UniRef50_V7NHD2|123\n",
      "Sequence: TTGCCCGACGCCGAACTGAAGATCGTCGACGACTCCGGCCACACCGGCAGTCCAGCCATGACCATCGCAATCACCGAAGCGATCGCGCGTTTCAGCGCCCATCCGATGCGCAGCTCCCGCTAA\n",
      "\n",
      "Последовательность номер 528:\n",
      "ID: 1764__V7NH50__O981_27595|k__Bacteria.p__Actinobacteria.c__Actinobacteria.o__Corynebacteriales.f__Mycobacteriaceae.g__Mycobacterium.s__Mycobacterium_avium|UniRef90_V7NH50|UniRef50_V7NH50|117\n",
      "Sequence: GTGACCGGCGGCGGCGCCGACACCGCCACGGCGTCTGTGGCTGACCAGTTCGGCATCGGGTCCGGCCGGCATCACAGCCGCGCCGTGATCGTGGGACCCGACGAAAGGACCGTGTGA\n",
      "\n",
      "Последовательность номер 539:\n",
      "ID: 1764__V7J1V7__O982_23980|k__Bacteria.p__Actinobacteria.c__Actinobacteria.o__Corynebacteriales.f__Mycobacteriaceae.g__Mycobacterium.s__Mycobacterium_avium|UniRef90_V7J1V7|UniRef50_D5P1N0|114\n",
      "Sequence: ATGACCGATGAAGAACACGTCGCCGACGTCATGGCACAGCTCGATCACGTCACGGCGGCCTTAACGCAACTGCAGAACGACATCGCTTCCAACAACCATGGTGAGGCCCAGTGA\n",
      "\n",
      "Последовательность номер 540:\n",
      "ID: 1764__V7J582__O982_24000|k__Bacteria.p__Actinobacteria.c__Actinobacteria.o__Corynebacteriales.f__Mycobacteriaceae.g__Mycobacterium.s__Mycobacterium_avium|UniRef90_V7J582|UniRef50_V7J582|126\n",
      "Sequence: GTGGACACGGCAGTCGGCCCCGACAGCGACCACGGTGACCGCTGCGGCCACCGCACCGACCCCACCCACCACAGCGCCGCCGGCAATTTGACCGACCTTTTACTGCAACGCGAGGGAGTACCGTAA\n",
      "\n",
      "Последовательность номер 541:\n",
      "ID: 1764__V7J460__O982_24010|k__Bacteria.p__Actinobacteria.c__Actinobacteria.o__Corynebacteriales.f__Mycobacteriaceae.g__Mycobacterium.s__Mycobacterium_avium|UniRef90_V7J460|UniRef50_V7J460|126\n",
      "Sequence: GTGCAGTGCGGCTGGCTGGGTGCCATCTTGAGATTTGTCGTCACCGCTGTGCGATCCGGCGGGGTCTTTGAGCGAATCGGCGTGCTCATCAGAGGCCAGTTCGGGATCGCGGCCGCCATCGCGTAG\n",
      "\n",
      "Последовательность номер 542:\n",
      "ID: 1764__V7J1W1__O982_24015|k__Bacteria.p__Actinobacteria.c__Actinobacteria.o__Corynebacteriales.f__Mycobacteriaceae.g__Mycobacterium.s__Mycobacterium_avium|UniRef90_V7J1W1|UniRef50_V7J1W1|138\n",
      "Sequence: GTGGGCGCCTCCGCCTGTCCAGCAGGGCACTCCCGCGTAGGCGCCTTCGTCGAGTTCGAGGTTTACGAAAAGGTGCGCTGGCGGGAGGTCACCGCCGCGCAGGCGGCGGCCGCGACGGATATCCATCACCTCGGCTAG\n",
      "\n",
      "Последовательность номер 543:\n",
      "ID: 1764__V7J590__O982_24065|k__Bacteria.p__Actinobacteria.c__Actinobacteria.o__Corynebacteriales.f__Mycobacteriaceae.g__Mycobacterium.s__Mycobacterium_avium|UniRef90_V7J590|UniRef50_Q9FZT8|111\n",
      "Sequence: TTGAACCAGGCCGATGGCAAGGTCCTCGATGGACTGGTGGCCAAATGGAACGCGCCGTCGCGTAGCGCTCTGGTGGAACAGGCGTTGCGGTTCTATTTCAAGGCGGATTGA\n",
      "\n",
      "Последовательность номер 549:\n",
      "ID: 1764__V7J2R8__O982_24935|k__Bacteria.p__Actinobacteria.c__Actinobacteria.o__Corynebacteriales.f__Mycobacteriaceae.g__Mycobacterium.s__Mycobacterium_avium|UniRef90_V7J2R8|UniRef50_V7J2R8|147\n",
      "Sequence: ATGCTCAGCCGGTTCGCGGGCTGTCAGGAGTTCGGTGAGCAATTGACGGGCGTCGGCCAAGATCGAGTGGCACTGCTCGACGAGGCCTTCCACGGCTTGCAACACAATACGCACGTGGGTGTCTTGGGGTGGTGGGGTGGCTGGTAG\n",
      "\n",
      "Последовательность номер 573:\n",
      "ID: 1764__A0A049E6L6__X425_00360|k__Bacteria.p__Actinobacteria.c__Actinobacteria.o__Corynebacteriales.f__Mycobacteriaceae.g__Mycobacterium.s__Mycobacterium_avium|UniRef90_A0A049E6L6|UniRef50_A0A049E6L6|144\n",
      "Sequence: ATGCCAGGGACCACCCGGGCCGCCGGGGTGATCGGGCCCGCCCGGCCCACCGGGGCCGCCGGGGTGATCGGGACCGCCGGGCCCGCCCGGGCCGCCGGGGTGATCCGGCCCACCCGGGCCGCCGGGACCGCCAGGTCCGCCTGA\n",
      "\n",
      "Последовательность номер 576:\n",
      "ID: 1764__A0A049DPX3__X425_02418|k__Bacteria.p__Actinobacteria.c__Actinobacteria.o__Corynebacteriales.f__Mycobacteriaceae.g__Mycobacterium.s__Mycobacterium_avium|UniRef90_A0A049DPX3|UniRef50_A0A049DPX3|132\n",
      "Sequence: ATGAGCGACCGGTGGCGTATCGACCACCCGGATGCCTCGCTGGCCGAGCTCGGTGCGCTGCATGAGCCGCCGCTCACCAAGCACGCCGTGTCGGGAATCATCCGCAGCGCCAAGAAATGGGTGGCCCGGTGA\n",
      "\n"
     ]
    }
   ],
   "source": [
    "input_file = \"Mycobacterium_avium_filtered_sequences_100_150.ffn\"\n",
    "sequence_numbers = [18, 72, 75, 132, 133, 151, 209, 220, 221, 222, 398, 404, 405, 406, 407, 438, 443, 445, 446, 448, 449, 452, 461, 463, 476, 508, 510, 527, 528, 539, 540, 541, 542, 543, 549, 573, 576 ]\n",
    "sequences = list(SeqIO.parse(input_file, \"fasta\"))\n",
    "\n",
    "for num in sequence_numbers:\n",
    "    sequence_index = num - 1  \n",
    "    if sequence_index < len(sequences):\n",
    "        print(f\"Последовательность номер {num}:\")\n",
    "        print(f\"ID: {sequences[sequence_index].id}\")\n",
    "        print(f\"Sequence: {str(sequences[sequence_index].seq)}\\n\")\n",
    "    else:\n",
    "        print(f\"Последовательность номер {num} не найдена.\")"
   ]
  },
  {
   "cell_type": "raw",
   "id": "84045bdf-851c-4934-a8c3-261ca6f2f17f",
   "metadata": {},
   "source": [
    "Bacteroides fragilis "
   ]
  },
  {
   "cell_type": "code",
   "execution_count": 11,
   "id": "03233cdf-089c-41cf-955d-5f3bc35bb005",
   "metadata": {},
   "outputs": [
    {
     "name": "stdout",
     "output_type": "stream",
     "text": [
      "Количество последовательностей Bacteroides_fragilis: 33399\n"
     ]
    }
   ],
   "source": [
    "input_file = \"Bacteroides_fragilis.ffn\"\n",
    "\n",
    "count = sum(1 for record in SeqIO.parse(input_file, \"fasta\"))\n",
    "print(f\"Количество последовательностей Bacteroides_fragilis: {count}\")"
   ]
  },
  {
   "cell_type": "code",
   "execution_count": 12,
   "id": "a108456b-7380-47d6-bf70-23d162b04cf2",
   "metadata": {},
   "outputs": [
    {
     "name": "stdout",
     "output_type": "stream",
     "text": [
      "Количество последовательностей: 3142\n"
     ]
    }
   ],
   "source": [
    "input_file = \"Bacteroides_fragilis.ffn\"\n",
    "output_file = \"Bacteroides_fragilis_filtered_sequences_100_150.ffn\"\n",
    "\n",
    "with open(input_file, \"r\") as in_handle, open(output_file, \"w\") as out_handle:\n",
    "    for record in SeqIO.parse(in_handle, \"fasta\"):\n",
    "        if 100 <= len(record.seq) <= 150:\n",
    "            SeqIO.write(record, out_handle, \"fasta\")\n",
    "\n",
    "count = sum(1 for record in SeqIO.parse(output_file, \"fasta\"))\n",
    "print(f\"Количество последовательностей: {count}\")"
   ]
  },
  {
   "cell_type": "code",
   "execution_count": null,
   "id": "e43f2c00-42a5-4e17-be8e-7a0f2a6d9687",
   "metadata": {},
   "outputs": [],
   "source": [
    "input_file = \"Bacteroides_fragilis_filtered_sequences_100_150.ffn\"\n",
    "sequence_numbers = []\n",
    "sequences = list(SeqIO.parse(input_file, \"fasta\"))\n",
    "\n",
    "for num in sequence_numbers:\n",
    "    sequence_index = num - 1  \n",
    "    if sequence_index < len(sequences):\n",
    "        print(f\"Последовательность номер {num}:\")\n",
    "        print(f\"ID: {sequences[sequence_index].id}\")\n",
    "        print(f\"Sequence: {str(sequences[sequence_index].seq)}\\n\")\n",
    "    else:\n",
    "        print(f\"Последовательность номер {num} не найдена.\")"
   ]
  },
  {
   "cell_type": "markdown",
   "id": "10ef7e43-b285-44bb-8dc3-181989856650",
   "metadata": {},
   "source": [
    "Слишком большое количество последовательностей для BLAST "
   ]
  },
  {
   "cell_type": "markdown",
   "id": "f410a76e-a206-4f3c-8e29-2bb4c1e8c9d3",
   "metadata": {},
   "source": [
    "Escherichia coli"
   ]
  },
  {
   "cell_type": "code",
   "execution_count": 13,
   "id": "4553f0ec-7c79-45ec-8e6f-9e3f5ed1a347",
   "metadata": {},
   "outputs": [
    {
     "name": "stdout",
     "output_type": "stream",
     "text": [
      "Количество последовательностей Escherichia coli: 215827\n"
     ]
    }
   ],
   "source": [
    "input_file = \"Escherichia_coli.ffn\"\n",
    "\n",
    "count = sum(1 for record in SeqIO.parse(input_file, \"fasta\"))\n",
    "print(f\"Количество последовательностей Escherichia coli: {count}\")"
   ]
  },
  {
   "cell_type": "code",
   "execution_count": 14,
   "id": "c2fca5fe-3b58-4003-89b3-112efa737207",
   "metadata": {},
   "outputs": [
    {
     "name": "stdout",
     "output_type": "stream",
     "text": [
      "Количество последовательностей: 12528\n"
     ]
    }
   ],
   "source": [
    "input_file = \"Escherichia_coli.ffn\"\n",
    "output_file = \"Escherichia_coli_filtered_sequences_100_150.ffn\"\n",
    "\n",
    "with open(input_file, \"r\") as in_handle, open(output_file, \"w\") as out_handle:\n",
    "    for record in SeqIO.parse(in_handle, \"fasta\"):\n",
    "        if 100 <= len(record.seq) <= 150:\n",
    "            SeqIO.write(record, out_handle, \"fasta\")\n",
    "\n",
    "count = sum(1 for record in SeqIO.parse(output_file, \"fasta\"))\n",
    "print(f\"Количество последовательностей: {count}\")"
   ]
  },
  {
   "cell_type": "code",
   "execution_count": null,
   "id": "12d9c025-4d6e-4013-8be9-0f01fa97b7fd",
   "metadata": {},
   "outputs": [],
   "source": [
    "input_file = \"Escherichia_coli_filtered_sequences_100_150.ffn\"\n",
    "sequence_numbers = []\n",
    "sequences = list(SeqIO.parse(input_file, \"fasta\"))\n",
    "\n",
    "for num in sequence_numbers:\n",
    "    sequence_index = num - 1  \n",
    "    if sequence_index < len(sequences):\n",
    "        print(f\"Последовательность номер {num}:\")\n",
    "        print(f\"ID: {sequences[sequence_index].id}\")\n",
    "        print(f\"Sequence: {str(sequences[sequence_index].seq)}\\n\")\n",
    "    else:\n",
    "        print(f\"Последовательность номер {num} не найдена.\")"
   ]
  },
  {
   "cell_type": "markdown",
   "id": "8477a884-8c4c-47ba-8803-488dd15fe28e",
   "metadata": {},
   "source": [
    "Слишком большое количество последовательностей для BLAST "
   ]
  },
  {
   "cell_type": "markdown",
   "id": "c1819e11-87b0-40c9-947e-05f2a656ac41",
   "metadata": {},
   "source": [
    "Faecalibacterium prausnitzii"
   ]
  },
  {
   "cell_type": "code",
   "execution_count": 15,
   "id": "7d1d1aa4-75ac-4e4c-be74-6ca72872619f",
   "metadata": {},
   "outputs": [
    {
     "name": "stdout",
     "output_type": "stream",
     "text": [
      "Количество последовательностей Faecalibacterium_prausnitzii: 24458\n"
     ]
    }
   ],
   "source": [
    "input_file = \"Faecalibacterium_prausnitzii.ffn\"\n",
    "\n",
    "count = sum(1 for record in SeqIO.parse(input_file, \"fasta\"))\n",
    "print(f\"Количество последовательностей Faecalibacterium_prausnitzii: {count}\")"
   ]
  },
  {
   "cell_type": "code",
   "execution_count": 16,
   "id": "aa5ce638-3b5a-4a8f-88bc-b38d30b281d1",
   "metadata": {},
   "outputs": [
    {
     "name": "stdout",
     "output_type": "stream",
     "text": [
      "Количество последовательностей: 1010\n"
     ]
    }
   ],
   "source": [
    "input_file = \"Faecalibacterium_prausnitzii.ffn\"\n",
    "output_file = \"Faecalibacterium_prausnitzii_filtered_sequences_100_150.ffn\"\n",
    "\n",
    "with open(input_file, \"r\") as in_handle, open(output_file, \"w\") as out_handle:\n",
    "    for record in SeqIO.parse(in_handle, \"fasta\"):\n",
    "        if 100 <= len(record.seq) <= 150:\n",
    "            SeqIO.write(record, out_handle, \"fasta\")\n",
    "\n",
    "count = sum(1 for record in SeqIO.parse(output_file, \"fasta\"))\n",
    "print(f\"Количество последовательностей: {count}\")"
   ]
  },
  {
   "cell_type": "code",
   "execution_count": 17,
   "id": "d2b69349-5cd2-4213-9ab5-af51d5caa187",
   "metadata": {},
   "outputs": [
    {
     "name": "stdout",
     "output_type": "stream",
     "text": [
      "Последовательность номер 14:\n",
      "ID: 853__R6Q0T7__C4N22_11060|k__Bacteria.p__Firmicutes.c__Clostridia.o__Clostridiales.f__Ruminococcaceae.g__Faecalibacterium.s__Faecalibacterium_prausnitzii|UniRef90_R6Q0T7|UniRef50_R7FXY9|123\n",
      "Sequence: ATGCTGCATTTACTTTCGTGGGAGACCACGCTGCCCATCCTGCTCATCGGGATGCTGGGCATCTTCCTGGTCATCGGCGTTATTGTGCTGGCGGTGACCCTGCTGGGGAAGTTTACAAAGTAA\n",
      "\n",
      "Последовательность номер 16:\n",
      "ID: 853__A0A329UHF5__C4N23_06620|k__Bacteria.p__Firmicutes.c__Clostridia.o__Clostridiales.f__Ruminococcaceae.g__Faecalibacterium.s__Faecalibacterium_prausnitzii|UniRef90_A0A329UHF5|UniRef50_A0A174U2Z8|132\n",
      "Sequence: ATGGAATTTTTCAATCAGGCGGTTACTGTACTGCAAACCCTCGTTATCGCGCTCGGTGCTGGTCTTGGTATCTGGGGCGTGATTAACTTGCTCGAAGGGTACGGGAACGATAACCGTGCGATGCGTTCCTGA\n",
      "\n",
      "Последовательность номер 19:\n",
      "ID: 853__A0A329UIK5__C4N24_02235|k__Bacteria.p__Firmicutes.c__Clostridia.o__Clostridiales.f__Ruminococcaceae.g__Faecalibacterium.s__Faecalibacterium_prausnitzii|UniRef90_A0A329UIK5|UniRef50_A0A329UIK5|144\n",
      "Sequence: ATGCTTGTTACGGGTATTATCGTTTTGGGAGTAGCGGTCTATGCGGTATGGGCTGTTCGGAAAATCCGAAAGGATCGCAAGAACGGCTCCTGCTGCGGCGGTAGCTGCTCCGGCTGTGTAGGCAAGGAATATTGCAGCAAATAA\n",
      "\n",
      "Последовательность номер 24:\n",
      "ID: 853__A0A329TP13__C4N25_04515|k__Bacteria.p__Firmicutes.c__Clostridia.o__Clostridiales.f__Ruminococcaceae.g__Faecalibacterium.s__Faecalibacterium_prausnitzii|UniRef90_A0A329TP13|UniRef50_A0A329TP13|150\n",
      "Sequence: GTGAAAAAAAACGGAACGGATTTCCCGGTTATCGAAGATGATGTTGTTATCAATCCTTATAGCATTATTATCGGTAATGTTCGGATTGGAAAAGGATCAGTTATTGGAGCAGGGAGTATAGTGACAAAGAGTACCCCCCCCATTGTGTAA\n",
      "\n",
      "Последовательность номер 75:\n",
      "ID: 853__A0A2A7B2S5__CHR60_14315|k__Bacteria.p__Firmicutes.c__Clostridia.o__Clostridiales.f__Ruminococcaceae.g__Faecalibacterium.s__Faecalibacterium_prausnitzii|UniRef90_A0A2A7B2S5|UniRef50_A0A2A7B2S5|132\n",
      "Sequence: ATTGTGCTAGTACCAAAGTATCGTAGAGAAACAATCTATGGAAAACTGAGAAAAGATATCGGTAAGATATTGAGAATGCATTGCGATTATAAGCATGTAGAAATCATAAGAGCGACGTCAGTATGCGGTTGA\n",
      "\n",
      "Последовательность номер 97:\n",
      "ID: 853__A0A173X691__ERS852426_00519|k__Bacteria.p__Firmicutes.c__Clostridia.o__Clostridiales.f__Ruminococcaceae.g__Faecalibacterium.s__Faecalibacterium_prausnitzii|UniRef90_A0A173X691|UniRef50_A0A173X691|126\n",
      "Sequence: ATGGCGAAAAAGGCGGTAGACCTCCCAAAGAAAACCAAGTGGGTTCTTTTCAAAACCCAGTCGGTTATATACAGAAACCCGCTGGGTTTTCTGAAACCGTCCATGACGCTGGAACAGAGGCTCTAA\n",
      "\n",
      "Последовательность номер 99:\n",
      "ID: 853__A0A173YCQ6__ERS852426_00914|k__Bacteria.p__Firmicutes.c__Clostridia.o__Clostridiales.f__Ruminococcaceae.g__Faecalibacterium.s__Faecalibacterium_prausnitzii|UniRef90_A0A173YCQ6|UniRef50_A0A173YCQ6|129\n",
      "Sequence: ATGCTGACAGATGAAGAGTTCTGCGAACAGCTTCTGAAAGACTACCAAAATGACCCTGACCCGCACAAGACGGATACGATTCCGCTGGAACAGCTTGCGCGGGAGTTGGGAATGGAGCTTCTAAAATAA\n",
      "\n",
      "Последовательность номер 101:\n",
      "ID: 853__A0A173YLW2__ERS852426_01035|k__Bacteria.p__Firmicutes.c__Clostridia.o__Clostridiales.f__Ruminococcaceae.g__Faecalibacterium.s__Faecalibacterium_prausnitzii|UniRef90_A0A173YLW2|UniRef50_A0A173YLW2|120\n",
      "Sequence: ATGCTGGAAATGCTGCATGAGGTCATTCGTCGTCCGCGTGCGGGTGCAGTGCAGGGAACCCGTGTAACTTTGTGTGGGAACACTTTGCAGATTTCGCAGGAGCAGAAGGCCGTGGTGTAG\n",
      "\n",
      "Последовательность номер 106:\n",
      "ID: 853__A0A173ZN83__ERS852426_01336|k__Bacteria.p__Firmicutes.c__Clostridia.o__Clostridiales.f__Ruminococcaceae.g__Faecalibacterium.s__Faecalibacterium_prausnitzii|UniRef90_A0A173ZN83|UniRef50_A0A173ZN83|144\n",
      "Sequence: ATGGCTCTGAACGACATGCTGACGTTGATCGCTGTGATCTTTACGTTTGCCGGGTTGTTGGTGAATATCGTGAACACGACGTTCAACATCACTTGGAAGATTGCCCATGAGCGCAAAGATGAAGACAGCAAAAAAAGCGAATGA\n",
      "\n",
      "Последовательность номер 109:\n",
      "ID: 853__A0A174A4K5__ERS852426_01512|k__Bacteria.p__Firmicutes.c__Clostridia.o__Clostridiales.f__Ruminococcaceae.g__Faecalibacterium.s__Faecalibacterium_prausnitzii|UniRef90_A0A174A4K5|UniRef50_A0A174A4K5|144\n",
      "Sequence: ATGGAGTCGATCTTCGACCTCGAACATCCGTATCAAACCTACTTCAAAATGATCCTGCCCTCGGTGCTGGGCATGGCACTGGCGCTGGAGCTGCTGGCCGCAAACCGCGATATCCTGACGGGGAGCAGGGAAGCTTCCCGCTGA\n",
      "\n",
      "Последовательность номер 110:\n",
      "ID: 853__A0A174AUM9__ERS852426_01746|k__Bacteria.p__Firmicutes.c__Clostridia.o__Clostridiales.f__Ruminococcaceae.g__Faecalibacterium.s__Faecalibacterium_prausnitzii|UniRef90_A0A174AUM9|UniRef50_A0A173UXX5|144\n",
      "Sequence: ATGACATTGTCTGAATTGCTGGCGCTGCTGACCCTTCTGGTCGCAGCAGCCGCGCTGATGGTCGAAGTGGCAAAAGCCGGGTTCGACATCGCGTGGAAAGTCGCACACGACAGATCAAACGATGACAACAAGAAAAGCAAGTAA\n",
      "\n",
      "Последовательность номер 113:\n",
      "ID: 853__A0A174C539__ERS852426_02173|k__Bacteria.p__Firmicutes.c__Clostridia.o__Clostridiales.f__Ruminococcaceae.g__Faecalibacterium.s__Faecalibacterium_prausnitzii|UniRef90_A0A174C539|UniRef50_R6QB76|111\n",
      "Sequence: ATGACATTTGAACAGGTCGTTCTCCTGCTCAGCCTGATCGGCGGGGCAGTGTACGTTACATTTCAGATCACATGGACCGTTTCTCACAGCGATGAACACAAGAAAAAATGA\n",
      "\n",
      "Последовательность номер 118:\n",
      "ID: 853__A0A174DI35__ERS852426_02578|k__Bacteria.p__Firmicutes.c__Clostridia.o__Clostridiales.f__Ruminococcaceae.g__Faecalibacterium.s__Faecalibacterium_prausnitzii|UniRef90_A0A174DI35|UniRef50_A0A174DI35|123\n",
      "Sequence: ATGGACATTGCGGAGATCGAGGCGGCGCTGAAAAAGCTGTACGTCGTCTCCAAGACCGAGAGCCGGGCGGGCTTCCCGCACTTCCGGAACGCAGCAGAAGGGGAGGCCACCGATGAAGCCTGA\n",
      "\n",
      "Последовательность номер 133:\n",
      "ID: 853__A0A173SLX4__ERS852582_01063|k__Bacteria.p__Firmicutes.c__Clostridia.o__Clostridiales.f__Ruminococcaceae.g__Faecalibacterium.s__Faecalibacterium_prausnitzii|UniRef90_A0A173SLX4|UniRef50_A0A173SLX4|117\n",
      "Sequence: ATGAGGTTGGATGAAAAAGACATGCAGCCAAAATCACTGAAGGGAAAGACCTTTGGAAAAACGATTCAAGAATACCGGTTGAGGAATGGCTGGACGCAGGATGAACTGTCGTGGTGA\n",
      "\n",
      "Последовательность номер 134:\n",
      "ID: 853__A0A173SLZ3__ERS852582_01064|k__Bacteria.p__Firmicutes.c__Clostridia.o__Clostridiales.f__Ruminococcaceae.g__Faecalibacterium.s__Faecalibacterium_prausnitzii|UniRef90_A0A173SLZ3|UniRef50_A0A173SLZ3|108\n",
      "Sequence: ATGGCATTCCGCGATTTGGAACAGCAGCTCATTATGAACATGACAGAAACAGAGCTGAAGCATGTCAGCAGTGCCATCAATGCCTTTACAGATCTCATCAAAAAGTAG\n",
      "\n",
      "Последовательность номер 146:\n",
      "ID: 853__A0A173VD38__ERS852582_02779|k__Bacteria.p__Firmicutes.c__Clostridia.o__Clostridiales.f__Ruminococcaceae.g__Faecalibacterium.s__Faecalibacterium_prausnitzii|UniRef90_A0A173VD38|UniRef50_A0A173VD38|117\n",
      "Sequence: ATGCTCCGGTATTTCTTTTTACACTGGGCAGCCCCTTGGGGATGCCTGCCGGAAGAGGCAAAGCCTTTCTATAAACTCTATTACCACTATGGATTTTTGAACAGTGAGAATTTTTAA\n",
      "\n",
      "Последовательность номер 147:\n",
      "ID: 853__A0A173VEB4__ERS852582_02825|k__Bacteria.p__Firmicutes.c__Clostridia.o__Clostridiales.f__Ruminococcaceae.g__Faecalibacterium.s__Faecalibacterium_prausnitzii|UniRef90_A0A173VEB4|UniRef50_A0A173VEB4|108\n",
      "Sequence: ATGAAAATAGAGTGTGCCGAGCAGGCGGTTGCAACGAGAAACAATGAAAAGTATTTTGTGAAGGTGATGGATGTTAAATGGGAGAAAAAGTATATAAGCCAATCATGA\n",
      "\n",
      "Последовательность номер 457:\n",
      "ID: 853__A8S8X7__FAEPRAM212_00907|k__Bacteria.p__Firmicutes.c__Clostridia.o__Clostridiales.f__Ruminococcaceae.g__Faecalibacterium.s__Faecalibacterium_prausnitzii|UniRef90_A8S8X7|UniRef50_A8S8X7|102\n",
      "Sequence: ATGTTCCACAGTCCGGGCAGTACCATCTACCATCTGGCATCGGATCAACAGGTGATGGCGTTTGGTGTGCCTTTGCAGGAGTTTGATTGGATGATGCAGTAA\n",
      "\n",
      "Последовательность номер 535:\n",
      "ID: 853__A8SC19__FAEPRAM212_01827|k__Bacteria.p__Firmicutes.c__Clostridia.o__Clostridiales.f__Ruminococcaceae.g__Faecalibacterium.s__Faecalibacterium_prausnitzii|UniRef90_A8SC19|UniRef50_A8SC19|117\n",
      "Sequence: GTGGGAATCGTCACCCCACCCTTGCTCAAAAAAGAGAACGCCCGCCGCATTCGCAGCGGGTGTTCTCTTTTTTCGTGTTTTACACTTTGCGGCGGAATGATGCAAAACGGAACTTGA\n",
      "\n",
      "Последовательность номер 540:\n",
      "ID: 853__A8SCZ4__FAEPRAM212_01871|k__Bacteria.p__Firmicutes.c__Clostridia.o__Clostridiales.f__Ruminococcaceae.g__Faecalibacterium.s__Faecalibacterium_prausnitzii|UniRef90_A8SCZ4|UniRef50_A8SCZ4|111\n",
      "Sequence: ATGCCCACCAGCTTCAAGCCGGTGGGCATTCTCTTACTTGTACCGTATTACAGGCAGTTGCTTTATCTTGCAGCCAATCTTTTTGTAATCAAGTGCAAAAACCATATCTAG\n",
      "\n",
      "Последовательность номер 589:\n",
      "ID: 853__A8SDU5__FAEPRAM212_02332|k__Bacteria.p__Firmicutes.c__Clostridia.o__Clostridiales.f__Ruminococcaceae.g__Faecalibacterium.s__Faecalibacterium_prausnitzii|UniRef90_A8SDU5|UniRef50_A8SDU5|111\n",
      "Sequence: GTGTTAGGCTGGTACGGAGACATCAAAATCCCCGGAAAGGATATGACAAAACTTTTGCCGTATCTGTGCGCAAATGATAACCCTGTGATTACAATTGAATCTGCTCAGTGA\n",
      "\n",
      "Последовательность номер 590:\n",
      "ID: 853__A8SDV3__FAEPRAM212_02341|k__Bacteria.p__Firmicutes.c__Clostridia.o__Clostridiales.f__Ruminococcaceae.g__Faecalibacterium.s__Faecalibacterium_prausnitzii|UniRef90_A8SDV3|UniRef50_A8SDV3|129\n",
      "Sequence: TTGTTGAAAGCATGGGACTGCAGACCTCTTTTTTGTGATCGGGAATCTCTCGGTTCAGAAATCCTTAATATTTTATTCTATTATATAATACCCTTTTCGCAAAAAAAAGACCTGGAATTTCCAAAATAA\n",
      "\n",
      "Последовательность номер 591:\n",
      "ID: 853__A8SDW6__FAEPRAM212_02354|k__Bacteria.p__Firmicutes.c__Clostridia.o__Clostridiales.f__Ruminococcaceae.g__Faecalibacterium.s__Faecalibacterium_prausnitzii|UniRef90_A8SDW6|UniRef50_A8SDW6|132\n",
      "Sequence: ATGGAAGTGGAACCTGTTCAGAAGGGTGATCATACCGGCACCGTTGACATGGATTTTTCTTTTCTGGTTCTTATCAGCATTTGCATTTTTGAACAACAACTGGCTCTCGTACTCCTTTGTAAAATGGGTTGA\n",
      "\n",
      "Последовательность номер 594:\n",
      "ID: 853__A8SDZ2__FAEPRAM212_02379|k__Bacteria.p__Firmicutes.c__Clostridia.o__Clostridiales.f__Ruminococcaceae.g__Faecalibacterium.s__Faecalibacterium_prausnitzii|UniRef90_A8SDZ2|UniRef50_A8SDZ2|126\n",
      "Sequence: ATGATGCTTATGATTCTGATTCCTGTGATGAAGACTACACAGGCCAACCACCAGATGGTGACCAGTCGTTCATTGTGCCAAGGCGTGGTCTGGAACCTGACTCAGGCCCAGATGATGACCCCATGA\n",
      "\n",
      "Последовательность номер 645:\n",
      "ID: 853__A8SG28__FAEPRAM212_02929|k__Bacteria.p__Firmicutes.c__Clostridia.o__Clostridiales.f__Ruminococcaceae.g__Faecalibacterium.s__Faecalibacterium_prausnitzii|UniRef90_A8SG28|UniRef50_A8SG28|120\n",
      "Sequence: TTGCTGTTCGATATCATCCACGCCAAGCTAATCAATATGTCAACATATAGAAAGCAAGAATTTATAAAATATACATTGACATCTTTCTGTTTAACCATTTCTGACAAAAGATTTCTTTGA\n",
      "\n",
      "Последовательность номер 646:\n",
      "ID: 853__A8SG35__FAEPRAM212_02934|k__Bacteria.p__Firmicutes.c__Clostridia.o__Clostridiales.f__Ruminococcaceae.g__Faecalibacterium.s__Faecalibacterium_prausnitzii|UniRef90_A8SG35|UniRef50_A8SG35|150\n",
      "Sequence: ATGATTACACCGCTGATTTATATTCATTCTTCAAATCTATTTTTGATTTTTCTTGCAGGTACCCCCCCAGATTGTAAAAGGAGGAATTTCCTTTGTTACTACACTTCCTGCAGCGATGACGGCACCTTCATGAATATGCACACCTTTTAG\n",
      "\n",
      "Последовательность номер 690:\n",
      "ID: 853__A8SHQ6__FAEPRAM212_03439|k__Bacteria.p__Firmicutes.c__Clostridia.o__Clostridiales.f__Ruminococcaceae.g__Faecalibacterium.s__Faecalibacterium_prausnitzii|UniRef90_A8SHQ6|UniRef50_A8SHQ6|111\n",
      "Sequence: GTGCGGCCTTTTCACGCCCTGCGTCAGTCTGTCCTTGTGACAGTACAACGCAGGGCATTTTTTATTATTCGGAAAGAGGTGGCCTGCTATGAATTTGCCAAAACGAAATAG\n",
      "\n",
      "Последовательность номер 762:\n",
      "ID: 853__D4K796__FPR_02660|k__Bacteria.p__Firmicutes.c__Clostridia.o__Clostridiales.f__Ruminococcaceae.g__Faecalibacterium.s__Faecalibacterium_prausnitzii|UniRef90_D4K796|UniRef50_A0A139R4S9|120\n",
      "Sequence: ATGCGAAAGAAGGAAGAGACTCGTGAGAGCAGAGCAGAGCAGAGCAGAGCAGAGCAGAGCAGAGCAGAGCAGAGCAGAGCAGAGCAGAGCAGAGCAGAGCAGCGTCTTTGGATGTTTTGA\n",
      "\n",
      "Последовательность номер 798:\n",
      "ID: 853__E2ZEW9__HMPREF9436_00198|k__Bacteria.p__Firmicutes.c__Clostridia.o__Clostridiales.f__Ruminococcaceae.g__Faecalibacterium.s__Faecalibacterium_prausnitzii|UniRef90_E2ZEW9|UniRef50_E2ZEW9|141\n",
      "Sequence: ATGAGCGTCCCGGGAATTTTCCTCGGCTGGTTCAGTCGAGGAAAGACCCGGGGCTTTTTTCAGCTTTGTCCAAGGCCCGCCGAAAGCAGGGAAAAGGAAAGCTTTTCCATCCTTCCTCTGGACAGGCGCGCACGCTGTTAA\n",
      "\n",
      "Последовательность номер 868:\n",
      "ID: 853__E2ZHT7__HMPREF9436_01226|k__Bacteria.p__Firmicutes.c__Clostridia.o__Clostridiales.f__Ruminococcaceae.g__Faecalibacterium.s__Faecalibacterium_prausnitzii|UniRef90_E2ZHT7|UniRef50_E2ZHT7|129\n",
      "Sequence: GTGGGAGAGTTTGTACGCCTTTACCAACATTTTCGTCCGGCAAAGCATTGGTATGATGTGGTCTATGTTTTCACCCTGTCCGAAGTAAAGGAAGCGGCACATTTTTCCAAAATGTGGAATCCGATATAA\n",
      "\n"
     ]
    }
   ],
   "source": [
    "input_file = \"Faecalibacterium_prausnitzii_filtered_sequences_100_150.ffn\"\n",
    "sequence_numbers = [14, 16, 19, 24, 75, 97, 99, 101, 106, 109, 110, 113, 118, 133, 134, 146, 147, 457, 535, 540, 589, 590, 591, 594, 645, 646, 690, 762,798, 868]\n",
    "sequences = list(SeqIO.parse(input_file, \"fasta\"))\n",
    "\n",
    "for num in sequence_numbers:\n",
    "    sequence_index = num - 1  \n",
    "    if sequence_index < len(sequences):\n",
    "        print(f\"Последовательность номер {num}:\")\n",
    "        print(f\"ID: {sequences[sequence_index].id}\")\n",
    "        print(f\"Sequence: {str(sequences[sequence_index].seq)}\\n\")\n",
    "    else:\n",
    "        print(f\"Последовательность номер {num} не найдена.\")"
   ]
  },
  {
   "cell_type": "code",
   "execution_count": null,
   "id": "356e90be-231c-41b4-8180-c7806186b88c",
   "metadata": {},
   "outputs": [],
   "source": []
  }
 ],
 "metadata": {
  "kernelspec": {
   "display_name": "Python 3 (ipykernel)",
   "language": "python",
   "name": "python3"
  },
  "language_info": {
   "codemirror_mode": {
    "name": "ipython",
    "version": 3
   },
   "file_extension": ".py",
   "mimetype": "text/x-python",
   "name": "python",
   "nbconvert_exporter": "python",
   "pygments_lexer": "ipython3",
   "version": "3.12.0"
  }
 },
 "nbformat": 4,
 "nbformat_minor": 5
}
